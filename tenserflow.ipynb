{
 "cells": [
  {
   "cell_type": "code",
   "execution_count": 1,
   "id": "0e2c717f-1cd2-4282-adab-b2f2cf2bbd25",
   "metadata": {},
   "outputs": [
    {
     "name": "stdout",
     "output_type": "stream",
     "text": [
      "Probability of the data point belonging to the positive class: 0.6248064637184143\n"
     ]
    }
   ],
   "source": [
    "import tensorflow as tf\n",
    "\n",
    "# Define weights, bias, and features as Tensors\n",
    "weights = tf.constant([0.5, 1, -1.2], dtype=tf.float32)\n",
    "bias = tf.constant(0.01, dtype=tf.float32)\n",
    "features = tf.constant([0.2, 1, 0.5], dtype=tf.float32)\n",
    "\n",
    "# Calculate the linear combination (w * x + b)\n",
    "linear_combination = tf.reduce_sum(weights * features) + bias\n",
    "\n",
    "# Apply the sigmoid function to get the probability\n",
    "probability = tf.sigmoid(linear_combination)\n",
    "\n",
    "# Evaluate and print the result\n",
    "probability_value = probability.numpy()\n",
    "print(f\"Probability of the data point belonging to the positive class: {probability_value}\")\n"
   ]
  },
  {
   "cell_type": "code",
   "execution_count": 2,
   "id": "b0e7be69-e9b5-4817-8338-f2851c9ccb07",
   "metadata": {},
   "outputs": [
    {
     "name": "stdout",
     "output_type": "stream",
     "text": [
      "0.62480646\n"
     ]
    }
   ],
   "source": [
    "x = tf.Variable([[0.2, 1, 0.5]])\n",
    "\n",
    "w = tf.Variable([[0.5], [1] , [-1.2]])\n",
    "\n",
    "b = tf.Variable([[0.01]])\n",
    "\n",
    " \n",
    "\n",
    "a = tf.add(tf.matmul(x,w), b)\n",
    "\n",
    " \n",
    "\n",
    "p = tf.sigmoid(a)\n",
    "\n",
    "print(p.numpy()[0][0])"
   ]
  },
  {
   "cell_type": "code",
   "execution_count": 3,
   "id": "33b51a33-2409-497f-83d4-6b539ed09dad",
   "metadata": {},
   "outputs": [
    {
     "name": "stdout",
     "output_type": "stream",
     "text": [
      "Defaulting to user installation because normal site-packages is not writeable\n",
      "Requirement already satisfied: keras in /Users/anandjha/Library/Python/3.9/lib/python/site-packages (3.6.0)\n",
      "Requirement already satisfied: absl-py in /Users/anandjha/Library/Python/3.9/lib/python/site-packages (from keras) (2.1.0)\n",
      "Requirement already satisfied: numpy in /Users/anandjha/Library/Python/3.9/lib/python/site-packages (from keras) (1.26.4)\n",
      "Requirement already satisfied: rich in /Users/anandjha/Library/Python/3.9/lib/python/site-packages (from keras) (13.9.4)\n",
      "Requirement already satisfied: namex in /Users/anandjha/Library/Python/3.9/lib/python/site-packages (from keras) (0.0.8)\n",
      "Requirement already satisfied: h5py in /Users/anandjha/Library/Python/3.9/lib/python/site-packages (from keras) (3.12.1)\n",
      "Requirement already satisfied: optree in /Users/anandjha/Library/Python/3.9/lib/python/site-packages (from keras) (0.13.0)\n",
      "Requirement already satisfied: ml-dtypes in /Users/anandjha/Library/Python/3.9/lib/python/site-packages (from keras) (0.4.1)\n",
      "Requirement already satisfied: packaging in /Users/anandjha/Library/Python/3.9/lib/python/site-packages (from keras) (24.1)\n",
      "Requirement already satisfied: typing-extensions>=4.5.0 in /Users/anandjha/Library/Python/3.9/lib/python/site-packages (from optree->keras) (4.12.2)\n",
      "Requirement already satisfied: markdown-it-py>=2.2.0 in /Users/anandjha/Library/Python/3.9/lib/python/site-packages (from rich->keras) (3.0.0)\n",
      "Requirement already satisfied: pygments<3.0.0,>=2.13.0 in /Users/anandjha/Library/Python/3.9/lib/python/site-packages (from rich->keras) (2.18.0)\n",
      "Requirement already satisfied: mdurl~=0.1 in /Users/anandjha/Library/Python/3.9/lib/python/site-packages (from markdown-it-py>=2.2.0->rich->keras) (0.1.2)\n",
      "\n",
      "\u001b[1m[\u001b[0m\u001b[34;49mnotice\u001b[0m\u001b[1;39;49m]\u001b[0m\u001b[39;49m A new release of pip is available: \u001b[0m\u001b[31;49m24.2\u001b[0m\u001b[39;49m -> \u001b[0m\u001b[32;49m24.3.1\u001b[0m\n",
      "\u001b[1m[\u001b[0m\u001b[34;49mnotice\u001b[0m\u001b[1;39;49m]\u001b[0m\u001b[39;49m To update, run: \u001b[0m\u001b[32;49m/Library/Developer/CommandLineTools/usr/bin/python3 -m pip install --upgrade pip\u001b[0m\n",
      "Note: you may need to restart the kernel to use updated packages.\n"
     ]
    }
   ],
   "source": [
    "pip install keras"
   ]
  },
  {
   "cell_type": "code",
   "execution_count": 4,
   "id": "c21f313a-672d-4cea-bfe2-09e923243ec1",
   "metadata": {},
   "outputs": [
    {
     "ename": "NameError",
     "evalue": "name 'keras' is not defined",
     "output_type": "error",
     "traceback": [
      "\u001b[0;31m---------------------------------------------------------------------------\u001b[0m",
      "\u001b[0;31mNameError\u001b[0m                                 Traceback (most recent call last)",
      "Cell \u001b[0;32mIn[4], line 1\u001b[0m\n\u001b[0;32m----> 1\u001b[0m \u001b[38;5;28mprint\u001b[39m(\u001b[43mkeras\u001b[49m\u001b[38;5;241m.\u001b[39m__version__)\n",
      "\u001b[0;31mNameError\u001b[0m: name 'keras' is not defined"
     ]
    }
   ],
   "source": [
    "print(keras.__version__)"
   ]
  },
  {
   "cell_type": "code",
   "execution_count": null,
   "id": "4ae9ef18-e8a4-48ee-92fb-58151036d635",
   "metadata": {},
   "outputs": [],
   "source": []
  }
 ],
 "metadata": {
  "kernelspec": {
   "display_name": "Python 3 (ipykernel)",
   "language": "python",
   "name": "python3"
  },
  "language_info": {
   "codemirror_mode": {
    "name": "ipython",
    "version": 3
   },
   "file_extension": ".py",
   "mimetype": "text/x-python",
   "name": "python",
   "nbconvert_exporter": "python",
   "pygments_lexer": "ipython3",
   "version": "3.9.6"
  }
 },
 "nbformat": 4,
 "nbformat_minor": 5
}
