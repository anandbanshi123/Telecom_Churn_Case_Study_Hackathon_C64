{
 "cells": [
  {
   "cell_type": "code",
   "execution_count": 1,
   "id": "0e2c717f-1cd2-4282-adab-b2f2cf2bbd25",
   "metadata": {},
   "outputs": [
    {
     "name": "stdout",
     "output_type": "stream",
     "text": [
      "Probability of the data point belonging to the positive class: 0.6248064637184143\n"
     ]
    }
   ],
   "source": [
    "import tensorflow as tf\n",
    "\n",
    "# Define weights, bias, and features as Tensors\n",
    "weights = tf.constant([0.5, 1, -1.2], dtype=tf.float32)\n",
    "bias = tf.constant(0.01, dtype=tf.float32)\n",
    "features = tf.constant([0.2, 1, 0.5], dtype=tf.float32)\n",
    "\n",
    "# Calculate the linear combination (w * x + b)\n",
    "linear_combination = tf.reduce_sum(weights * features) + bias\n",
    "\n",
    "# Apply the sigmoid function to get the probability\n",
    "probability = tf.sigmoid(linear_combination)\n",
    "\n",
    "# Evaluate and print the result\n",
    "probability_value = probability.numpy()\n",
    "print(f\"Probability of the data point belonging to the positive class: {probability_value}\")\n"
   ]
  },
  {
   "cell_type": "code",
   "execution_count": 2,
   "id": "b0e7be69-e9b5-4817-8338-f2851c9ccb07",
   "metadata": {},
   "outputs": [
    {
     "name": "stdout",
     "output_type": "stream",
     "text": [
      "0.62480646\n"
     ]
    }
   ],
   "source": [
    "x = tf.Variable([[0.2, 1, 0.5]])\n",
    "\n",
    "w = tf.Variable([[0.5], [1] , [-1.2]])\n",
    "\n",
    "b = tf.Variable([[0.01]])\n",
    "\n",
    " \n",
    "\n",
    "a = tf.add(tf.matmul(x,w), b)\n",
    "\n",
    " \n",
    "\n",
    "p = tf.sigmoid(a)\n",
    "\n",
    "print(p.numpy()[0][0])"
   ]
  },
  {
   "cell_type": "code",
   "execution_count": null,
   "id": "33b51a33-2409-497f-83d4-6b539ed09dad",
   "metadata": {},
   "outputs": [],
   "source": []
  }
 ],
 "metadata": {
  "kernelspec": {
   "display_name": "Python 3 (ipykernel)",
   "language": "python",
   "name": "python3"
  },
  "language_info": {
   "codemirror_mode": {
    "name": "ipython",
    "version": 3
   },
   "file_extension": ".py",
   "mimetype": "text/x-python",
   "name": "python",
   "nbconvert_exporter": "python",
   "pygments_lexer": "ipython3",
   "version": "3.9.6"
  }
 },
 "nbformat": 4,
 "nbformat_minor": 5
}
